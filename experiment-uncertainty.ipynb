{
 "cells": [
  {
   "cell_type": "code",
   "execution_count": 1,
   "id": "68dfed48",
   "metadata": {},
   "outputs": [],
   "source": [
    "# file specific libraries\n",
    "import torch\n",
    "from IPython.core.interactiveshell import InteractiveShell\n",
    "InteractiveShell.ast_node_interactivity = \"all\"\n",
    "import math, random, torch, collections, time, torch.nn.functional as F, networkx as nx, matplotlib.pyplot as plt, numpy as np\n",
    "import torch.nn as nn\n",
    "import torch.nn.functional as F\n",
    "from torch.nn import Linear\n",
    "from torch_geometric.nn import GCNConv\n",
    "from IPython.display import clear_output\n",
    "from torch_geometric.utils import to_networkx\n",
    "from sklearn.manifold import TSNE\n",
    "from sklearn.decomposition import PCA\n",
    "from functools import wraps\n",
    "\n",
    "%matplotlib inline\n",
    "import sys,os\n",
    "from models import *\n",
    "from train_utils import *\n",
    "from influence_metrics import *\n"
   ]
  },
  {
   "cell_type": "code",
   "execution_count": 2,
   "id": "7e6c103f",
   "metadata": {},
   "outputs": [
    {
     "name": "stdout",
     "output_type": "stream",
     "text": [
      "\n",
      "Dataset: Cora():\n",
      "======================\n",
      "Number of graphs: 1\n",
      "Number of features: 1433\n",
      "Number of classes: 7\n",
      "\n",
      "Data(x=[2708, 1433], edge_index=[2, 10556], y=[2708], train_mask=[2708], val_mask=[2708], test_mask=[2708])\n",
      "===========================================================================================================\n",
      "Number of nodes: 2708\n",
      "Number of edges: 10556\n",
      "Average node degree: 3.90\n",
      "Number of training nodes: 140\n",
      "Training node label rate: 0.05\n",
      "Contains isolated nodes: False\n",
      "Contains self-loops: False\n",
      "Is undirected: True\n"
     ]
    }
   ],
   "source": [
    "from torch_geometric.datasets import Planetoid\n",
    "from torch_geometric.transforms import NormalizeFeatures\n",
    "import torch\n",
    "import torch_geometric as tg\n",
    "import pandas as pd\n",
    "\n",
    "dataset_name = 'Cora'\n",
    "dataset = Planetoid(root='../data/Planetoid', name=dataset_name, transform=NormalizeFeatures())\n",
    "###\n",
    "print()\n",
    "print(f'Dataset: {dataset}:')\n",
    "print('======================')\n",
    "print(f'Number of graphs: {len(dataset)}')\n",
    "print(f'Number of features: {dataset.num_features}')\n",
    "print(f'Number of classes: {dataset.num_classes}')\n",
    "\n",
    "data = dataset[0]  # Get the first graph object.\n",
    "\n",
    "print()\n",
    "print(data)\n",
    "print('===========================================================================================================')\n",
    "\n",
    "# Gather some statistics about the graph.\n",
    "print(f'Number of nodes: {data.num_nodes}')\n",
    "print(f'Number of edges: {data.num_edges}')\n",
    "print(f'Average node degree: {data.num_edges / data.num_nodes:.2f}')\n",
    "print(f'Number of training nodes: {data.train_mask.sum()}')\n",
    "print(f'Training node label rate: {int(data.train_mask.sum()) / data.num_nodes:.2f}')\n",
    "print(f'Contains isolated nodes: {data.has_isolated_nodes()}')\n",
    "print(f'Contains self-loops: {data.has_self_loops()}')\n",
    "print(f'Is undirected: {data.is_undirected()}')\n"
   ]
  },
  {
   "cell_type": "code",
   "execution_count": 3,
   "id": "c7e4c16e",
   "metadata": {
    "scrolled": true
   },
   "outputs": [
    {
     "name": "stdout",
     "output_type": "stream",
     "text": [
      "Training the model\n",
      "Final test accuracy: 0.79\n",
      "output:  tensor([3, 4, 4,  ..., 3, 3, 3])\n"
     ]
    }
   ],
   "source": [
    "#### Simple model\n",
    "## for GraphSAGE, alpha = 0.5, beta =1 \n",
    "## for GAT, alpha = , beta = ?\n",
    "\n",
    "model =GNN(input_dim = data.num_features, hidden_dim=252,\n",
    "           output_dim = dataset.num_classes, n_layers=2,\n",
    "           activation ='relu', slope=.1,\n",
    "           device ='cpu',\n",
    "          alpha = 0.5, beta = 1, alpha_res = 0, \n",
    "           gnn_type = 'symmetric') \n",
    "           \n",
    "criterion = torch.nn.CrossEntropyLoss() \n",
    "optimizer = torch.optim.Adam(model.parameters(), lr=0.001, weight_decay=5e-4) #didn't include weight decay\n",
    "train_acc_list, test_acc_list, loss_list, misclassified, predictions = train(150, model, criterion, optimizer, \n",
    "                                                 x= data.x, edge_index= data.edge_index, y=data.y, indicate=True,\n",
    "                                                m=mask(data.train_mask, data.test_mask),\n",
    "                                                scatter_size=30, plotting=False)"
   ]
  },
  {
   "cell_type": "code",
   "execution_count": 33,
   "id": "e40a0ccb",
   "metadata": {},
   "outputs": [],
   "source": [
    "def display_influential_nodes(result): \n",
    "    test_size = list(result.keys())\n",
    "    for test_num in test_size: \n",
    "        num_nodes = len(result[test_num]['influential_nodes'])\n",
    "        print(f\"For test number {test_num}, {num_nodes} influential nodes found\")\n",
    "        print(f\"  - influential nodes: {list(result[test_num]['influential_nodes'].keys())}\")\n",
    "        print(f\"  - final accuracy: {list(result[test_num]['influential_nodes'].values())[-1]}\")\n",
    "    common_nodes = find_common_nodes(result, [])\n",
    "    len_common_nodes = len(common_nodes)\n",
    "    print(f\"{len_common_nodes} common nodes found: {common_nodes}\")\n",
    "    return common_nodes"
   ]
  },
  {
   "cell_type": "code",
   "execution_count": 21,
   "id": "6c46daef",
   "metadata": {
    "scrolled": false
   },
   "outputs": [],
   "source": [
    "#run the same epoch size several time\n",
    "#result = repeat_pipelines(model, dataset, data, epoch_size=100, display=True, indicate=True)"
   ]
  },
  {
   "cell_type": "code",
   "execution_count": 35,
   "id": "19c3e02d",
   "metadata": {},
   "outputs": [
    {
     "name": "stdout",
     "output_type": "stream",
     "text": [
      "For test number 1, 8 influential nodes found\n",
      "  - influential nodes: [0, 1, 2, 6, 10, 68, 95, 110]\n",
      "  - final accuracy: 0.798\n",
      "For test number 2, 7 influential nodes found\n",
      "  - influential nodes: [0, 1, 3, 4, 6, 12, 23]\n",
      "  - final accuracy: 0.799\n",
      "For test number 3, 12 influential nodes found\n",
      "  - influential nodes: [0, 1, 2, 3, 4, 10, 29, 31, 58, 64, 68, 135]\n",
      "  - final accuracy: 0.798\n",
      "\n",
      "=================================\n",
      "common nodes: {0, 1}\n",
      "2 common nodes found: {0, 1}\n"
     ]
    }
   ],
   "source": [
    "common_nodes = display_influential_nodes(result)"
   ]
  },
  {
   "cell_type": "code",
   "execution_count": 66,
   "id": "ecec43ba",
   "metadata": {},
   "outputs": [],
   "source": [
    "dc_g = nx.degree_centrality(F.to_networkx(dataset[0]))\n",
    "bc_g = nx.betweenness_centrality(F.to_networkx(dataset[0]))\n",
    "dc_df=pd.DataFrame(data=dc_g, index=['Degree Centrality']).transpose()\n",
    "bc_df=pd.DataFrame(data = bc_g, index=['Betweenness Centrality']).transpose()\n",
    "centrality = dc_df.join(bc_df)"
   ]
  },
  {
   "cell_type": "code",
   "execution_count": 126,
   "id": "98d64d8c",
   "metadata": {},
   "outputs": [
    {
     "data": {
      "text/plain": [
       "Betweenness Centrality    1358\n",
       "dtype: int64"
      ]
     },
     "execution_count": 126,
     "metadata": {},
     "output_type": "execute_result"
    },
    {
     "data": {
      "text/plain": [
       "Degree Centrality    1358\n",
       "dtype: int64"
      ]
     },
     "execution_count": 126,
     "metadata": {},
     "output_type": "execute_result"
    }
   ],
   "source": [
    "bc_df.idxmax(axis='index')\n",
    "new = pd.DataFrame(data=dc_g, index=['Degree Centrality']).transpose()\n",
    "new.idxmax(axis='index')"
   ]
  },
  {
   "cell_type": "code",
   "execution_count": 92,
   "id": "a7d52830",
   "metadata": {},
   "outputs": [
    {
     "data": {
      "text/plain": [
       "<BarContainer object of 2708 artists>"
      ]
     },
     "execution_count": 92,
     "metadata": {},
     "output_type": "execute_result"
    },
    {
     "data": {
      "image/png": "[encoded data removed]",
      "text/plain": [
       "<Figure size 432x288 with 1 Axes>"
      ]
     },
     "metadata": {
      "needs_background": "light"
     },
     "output_type": "display_data"
    }
   ],
   "source": [
    "plt.bar(height=dc_g.values(), x=dc_g.keys(), width=1, color='g')"
   ]
  },
  {
   "cell_type": "code",
   "execution_count": 93,
   "id": "2503b5a9",
   "metadata": {},
   "outputs": [
    {
     "data": {
      "text/plain": [
       "<BarContainer object of 2708 artists>"
      ]
     },
     "execution_count": 93,
     "metadata": {},
     "output_type": "execute_result"
    },
    {
     "data": {
      "image/png": "[encoded data removed]",
      "text/plain": [
       "<Figure size 432x288 with 1 Axes>"
      ]
     },
     "metadata": {
      "needs_background": "light"
     },
     "output_type": "display_data"
    }
   ],
   "source": [
    "plt.bar(height=bc_g.values(), x=bc_g.keys(), width=1, color='r')"
   ]
  },
  {
   "cell_type": "code",
   "execution_count": 131,
   "id": "7bdf6a3a",
   "metadata": {},
   "outputs": [],
   "source": [
    "## compute until 140 node? (the number of train_nodes)"
   ]
  },
  {
   "cell_type": "code",
   "execution_count": 36,
   "id": "a5fd8fe7",
   "metadata": {},
   "outputs": [
    {
     "name": "stdout",
     "output_type": "stream",
     "text": [
      "search result: \n",
      "{0: 0.0022164758034724785, 1: 0.0022164758034724785}\n",
      "search result: \n",
      "{0: 9.76615354875872e-07, 1: 0.001080476705520546}\n",
      "{0: 0.0022164758034724785, 1: 0.0022164758034724785} {0: 9.76615354875872e-07, 1: 0.001080476705520546}\n"
     ]
    }
   ],
   "source": [
    "dc = compute_centrality(dataset, common_nodes, 'Degree Centrality')\n",
    "bc = compute_centrality(dataset, common_nodes, 'Betweenness Centrality')\n",
    "print(dc, bc)"
   ]
  },
  {
   "cell_type": "code",
   "execution_count": 134,
   "id": "3a33cb5a",
   "metadata": {},
   "outputs": [
    {
     "name": "stdout",
     "output_type": "stream",
     "text": [
      "total nodes of 2708\n",
      " 1.5 percentage of nodes have higher betweenness centrality than 0\n",
      " 3.7 percentage of nodes have higher betweenness centrality than 0\n"
     ]
    }
   ],
   "source": [
    "print(f\"total nodes of {len(bc_g)}\")\n",
    "total = len(bc_g)\n",
    "count_bc0, count_bc1 = 0, 0\n",
    "for i in range(2, 140):\n",
    "    if centrality['Betweenness Centrality'][i] < bc[0]: count_bc0+=1\n",
    "    if centrality['Betweenness Centrality'][i]  < bc[1]: count_bc1+=1\n",
    "\n",
    "print(f\"{count_bc0/total*100: 0.1f} percentage of nodes have higher betweenness centrality than 0\")\n",
    "print(f\" {count_bc1/total*100:0.1f} percentage of nodes have higher betweenness centrality than 0\")"
   ]
  },
  {
   "cell_type": "code",
   "execution_count": 133,
   "id": "df37420b",
   "metadata": {},
   "outputs": [
    {
     "name": "stdout",
     "output_type": "stream",
     "text": [
      "total nodes of 2708\n",
      " 1.7 percentage of nodes have higher betweenness centrality than 0\n",
      " 1.7 percentage of nodes have higher betweenness centrality than 0\n"
     ]
    }
   ],
   "source": [
    "print(f\"total nodes of {len(dc_g)}\")\n",
    "count_dc0, count_dc1 = 0, 0\n",
    "for i in range(2, 140):\n",
    "    if centrality['Degree Centrality'][i] <  dc[0]: count_dc0+=1\n",
    "    if centrality['Degree Centrality'][i]  < dc[1]: count_dc1+=1\n",
    "print(f\" {count_dc0/total*100:0.1f} percentage of nodes have higher betweenness centrality than 0\")\n",
    "print(f\" {count_dc1/total*100:0.1f} percentage of nodes have higher betweenness centrality than 0\")"
   ]
  },
  {
   "cell_type": "code",
   "execution_count": 137,
   "id": "603461e9",
   "metadata": {},
   "outputs": [
    {
     "name": "stdout",
     "output_type": "stream",
     "text": [
      " 0.0 percentage of nodes have higher degree centrality than 0\n",
      " 5.1 percentage of nodes have higher degree centrality than 1\n",
      " 0.0 percentage of nodes have higher betweenness centrality than 0\n",
      " 5.1 percentage of nodes have higher betweenness centrality than 1\n"
     ]
    }
   ],
   "source": [
    "dc_count = [0 for _ in range(len(dc))]\n",
    "for i in range(2, 140):\n",
    "    for j in dc: \n",
    "        if centrality['Degree Centrality'][i] < j: dc_count[j] += 1 \n",
    "for i in range(len(dc)): \n",
    "    print(f\" {dc_count[i]/total*100:0.1f} percentage of nodes have higher degree centrality than {i}\")\n",
    "\n",
    "bc_count = [0 for _ in range(len(dc))]\n",
    "for i in range(2, 140):\n",
    "    for j in bc: \n",
    "        if centrality['Betweenness Centrality'][i] < j: bc_count[j] += 1 \n",
    "for i in range(len(dc)): \n",
    "    print(f\" {dc_count[i]/total*100:0.1f} percentage of nodes have higher betweenness centrality than {i}\")\n"
   ]
  },
  {
   "cell_type": "code",
   "execution_count": null,
   "id": "9ef5e5ea",
   "metadata": {},
   "outputs": [],
   "source": []
  },
  {
   "cell_type": "code",
   "execution_count": 22,
   "id": "fd680cc2",
   "metadata": {},
   "outputs": [
    {
     "name": "stdout",
     "output_type": "stream",
     "text": [
      "search result: \n",
      "{0: 0.0022164758034724785, 1: 0.0022164758034724785}\n"
     ]
    },
    {
     "ename": "TypeError",
     "evalue": "unhashable type: 'Data'",
     "output_type": "error",
     "traceback": [
      "\u001b[0;31m---------------------------------------------------------------------------\u001b[0m",
      "\u001b[0;31mTypeError\u001b[0m                                 Traceback (most recent call last)",
      "Input \u001b[0;32mIn [22]\u001b[0m, in \u001b[0;36m<cell line: 3>\u001b[0;34m()\u001b[0m\n\u001b[1;32m      1\u001b[0m dc \u001b[38;5;241m=\u001b[39m compute_centrality(dataset, common_nodes, \u001b[38;5;124m'\u001b[39m\u001b[38;5;124mdegree_centrality\u001b[39m\u001b[38;5;124m'\u001b[39m)\n\u001b[0;32m----> 3\u001b[0m similarities \u001b[38;5;241m=\u001b[39m \u001b[43mnode_similarity\u001b[49m\u001b[43m(\u001b[49m\u001b[43mdataset\u001b[49m\u001b[43m,\u001b[49m\u001b[43m \u001b[49m\u001b[43mcommon_nodes\u001b[49m\u001b[43m)\u001b[49m\n",
      "File \u001b[0;32m~/PycharmProjects/BB_Diagnostics/GNN_diagnostics/influence_metrics.py:109\u001b[0m, in \u001b[0;36mnode_similarity\u001b[0;34m(dataset, influential_nodes)\u001b[0m\n\u001b[1;32m    107\u001b[0m \n\u001b[1;32m    108\u001b[0m rn result\n\u001b[0;32m--> 109\u001b[0m \n\u001b[1;32m    110\u001b[0m \n\u001b[1;32m    111\u001b[0m ute_centrality(dataset, influential_nodes, task='degree_centrality'):\n",
      "File \u001b[0;32m/opt/anaconda3/lib/python3.9/site-packages/networkx/algorithms/similarity.py:1309\u001b[0m, in \u001b[0;36msimrank_similarity\u001b[0;34m(G, source, target, importance_factor, max_iterations, tolerance)\u001b[0m\n\u001b[1;32m   1306\u001b[0m s_indx \u001b[38;5;241m=\u001b[39m \u001b[38;5;28;01mNone\u001b[39;00m \u001b[38;5;28;01mif\u001b[39;00m source \u001b[38;5;129;01mis\u001b[39;00m \u001b[38;5;28;01mNone\u001b[39;00m \u001b[38;5;28;01melse\u001b[39;00m nodelist\u001b[38;5;241m.\u001b[39mindex(source)\n\u001b[1;32m   1307\u001b[0m t_indx \u001b[38;5;241m=\u001b[39m \u001b[38;5;28;01mNone\u001b[39;00m \u001b[38;5;28;01mif\u001b[39;00m target \u001b[38;5;129;01mis\u001b[39;00m \u001b[38;5;28;01mNone\u001b[39;00m \u001b[38;5;28;01melse\u001b[39;00m nodelist\u001b[38;5;241m.\u001b[39mindex(target)\n\u001b[0;32m-> 1309\u001b[0m x \u001b[38;5;241m=\u001b[39m \u001b[43m_simrank_similarity_numpy\u001b[49m\u001b[43m(\u001b[49m\n\u001b[1;32m   1310\u001b[0m \u001b[43m    \u001b[49m\u001b[43mG\u001b[49m\u001b[43m,\u001b[49m\u001b[43m \u001b[49m\u001b[43ms_indx\u001b[49m\u001b[43m,\u001b[49m\u001b[43m \u001b[49m\u001b[43mt_indx\u001b[49m\u001b[43m,\u001b[49m\u001b[43m \u001b[49m\u001b[43mimportance_factor\u001b[49m\u001b[43m,\u001b[49m\u001b[43m \u001b[49m\u001b[43mmax_iterations\u001b[49m\u001b[43m,\u001b[49m\u001b[43m \u001b[49m\u001b[43mtolerance\u001b[49m\n\u001b[1;32m   1311\u001b[0m \u001b[43m\u001b[49m\u001b[43m)\u001b[49m\n\u001b[1;32m   1313\u001b[0m \u001b[38;5;28;01mif\u001b[39;00m \u001b[38;5;28misinstance\u001b[39m(x, np\u001b[38;5;241m.\u001b[39mndarray):\n\u001b[1;32m   1314\u001b[0m     \u001b[38;5;28;01mif\u001b[39;00m x\u001b[38;5;241m.\u001b[39mndim \u001b[38;5;241m==\u001b[39m \u001b[38;5;241m1\u001b[39m:\n",
      "File \u001b[0;32m/opt/anaconda3/lib/python3.9/site-packages/networkx/algorithms/similarity.py:1462\u001b[0m, in \u001b[0;36m_simrank_similarity_numpy\u001b[0;34m(G, source, target, importance_factor, max_iterations, tolerance)\u001b[0m\n\u001b[1;32m   1454\u001b[0m \u001b[38;5;66;03m# This algorithm follows roughly\u001b[39;00m\n\u001b[1;32m   1455\u001b[0m \u001b[38;5;66;03m#\u001b[39;00m\n\u001b[1;32m   1456\u001b[0m \u001b[38;5;66;03m#     S = max{C * (A.T * S * A), I}\u001b[39;00m\n\u001b[1;32m   1457\u001b[0m \u001b[38;5;66;03m#\u001b[39;00m\n\u001b[1;32m   1458\u001b[0m \u001b[38;5;66;03m# where C is the importance factor, A is the column normalized\u001b[39;00m\n\u001b[1;32m   1459\u001b[0m \u001b[38;5;66;03m# adjacency matrix, and I is the identity matrix.\u001b[39;00m\n\u001b[1;32m   1460\u001b[0m \u001b[38;5;28;01mimport\u001b[39;00m \u001b[38;5;21;01mnumpy\u001b[39;00m \u001b[38;5;28;01mas\u001b[39;00m \u001b[38;5;21;01mnp\u001b[39;00m\n\u001b[0;32m-> 1462\u001b[0m adjacency_matrix \u001b[38;5;241m=\u001b[39m \u001b[43mnx\u001b[49m\u001b[38;5;241;43m.\u001b[39;49m\u001b[43mto_numpy_array\u001b[49m\u001b[43m(\u001b[49m\u001b[43mG\u001b[49m\u001b[43m)\u001b[49m\n\u001b[1;32m   1464\u001b[0m \u001b[38;5;66;03m# column-normalize the ``adjacency_matrix``\u001b[39;00m\n\u001b[1;32m   1465\u001b[0m s \u001b[38;5;241m=\u001b[39m np\u001b[38;5;241m.\u001b[39marray(adjacency_matrix\u001b[38;5;241m.\u001b[39msum(axis\u001b[38;5;241m=\u001b[39m\u001b[38;5;241m0\u001b[39m))\n",
      "File \u001b[0;32m/opt/anaconda3/lib/python3.9/site-packages/networkx/convert_matrix.py:1412\u001b[0m, in \u001b[0;36mto_numpy_array\u001b[0;34m(G, nodelist, dtype, order, multigraph_weight, weight, nonedge)\u001b[0m\n\u001b[1;32m   1409\u001b[0m nlen \u001b[38;5;241m=\u001b[39m \u001b[38;5;28mlen\u001b[39m(nodelist)\n\u001b[1;32m   1411\u001b[0m \u001b[38;5;66;03m# Input validation\u001b[39;00m\n\u001b[0;32m-> 1412\u001b[0m nodeset \u001b[38;5;241m=\u001b[39m \u001b[38;5;28;43mset\u001b[39;49m\u001b[43m(\u001b[49m\u001b[43mnodelist\u001b[49m\u001b[43m)\u001b[49m\n\u001b[1;32m   1413\u001b[0m \u001b[38;5;28;01mif\u001b[39;00m nodeset \u001b[38;5;241m-\u001b[39m \u001b[38;5;28mset\u001b[39m(G):\n\u001b[1;32m   1414\u001b[0m     \u001b[38;5;28;01mraise\u001b[39;00m nx\u001b[38;5;241m.\u001b[39mNetworkXError(\u001b[38;5;124mf\u001b[39m\u001b[38;5;124m\"\u001b[39m\u001b[38;5;124mNodes \u001b[39m\u001b[38;5;132;01m{\u001b[39;00mnodeset \u001b[38;5;241m-\u001b[39m \u001b[38;5;28mset\u001b[39m(G)\u001b[38;5;132;01m}\u001b[39;00m\u001b[38;5;124m in nodelist is not in G\u001b[39m\u001b[38;5;124m\"\u001b[39m)\n",
      "\u001b[0;31mTypeError\u001b[0m: unhashable type: 'Data'"
     ]
    }
   ],
   "source": [
    "similarities = node_similarity(dataset, common_nodes)"
   ]
  },
  {
   "cell_type": "code",
   "execution_count": null,
   "id": "92c98b9e",
   "metadata": {},
   "outputs": [],
   "source": [
    "plot_distribution(influential_class, heavily_affected_nodes):"
   ]
  },
  {
   "cell_type": "code",
   "execution_count": null,
   "id": "109dad86",
   "metadata": {},
   "outputs": [],
   "source": [
    "for i in range(len(dataframe.columns)): \n",
    "    max_sim = 0\n",
    "    idx1, idx2 = 1, 2\n",
    "    for j in range(i, len(dataframe.columns)):\n",
    "        similarity = dataframe[i][j] \n",
    "        if similarity != 1 and similarity != 0: \n",
    "            if max_sim < similarity: \n",
    "                max_sim = similarity \n",
    "                print(max_sim)\n",
    "                idx1, idx2 = i, j\n",
    "            print(f\"{i}, {j} pair with similarity level {similarity:.3f}\")\n",
    "    \n",
    "print(f\"most similar pair: {idx1}, {idx2}\" )"
   ]
  },
  {
   "cell_type": "code",
   "execution_count": null,
   "id": "b4249bef",
   "metadata": {},
   "outputs": [],
   "source": [
    "dataframe\n",
    "\n",
    "for i in "
   ]
  },
  {
   "cell_type": "markdown",
   "id": "5c37ef39",
   "metadata": {},
   "source": [
    "# to do \n",
    "**misclassification** \n",
    "1. for each misclassified nodes, can I find a node responsible to the misclassification? \n",
    "2. what is the most dominant misclassified class? \n",
    "\n",
    "**influential nodes** \n",
    "1. for each influential node, can I figure out which class the node is in, and for which nodes the node results in misclassification? \n",
    "2. what is the relationship of the influential node to the misclassified node? \n",
    "3. what is the relationship amongst the influential nodes? \n",
    "4. if I take all of the influential nodes out, does that lead to increase in inaccuracy? or decrease? is there a consistent result? \n",
    "\n",
    "\n",
    "numbers are just numbers without context. try to write the print function wisely. \n",
    "compute the simrank for the entire graph - the group's simrank is significantly different from the group \n",
    "random paris of the graph and average out? "
   ]
  },
  {
   "cell_type": "markdown",
   "id": "3fc7e2cf",
   "metadata": {},
   "source": [
    "# links\n",
    "node similarity: https://towardsdatascience.com/simrank-similarity-analysis-1d8d5a18766a\n",
    " 0 if have the same parents, return a similarity value\n"
   ]
  },
  {
   "cell_type": "code",
   "execution_count": null,
   "id": "6fdfe3de",
   "metadata": {},
   "outputs": [],
   "source": [
    "outputs, output_differences, kl_scores, accuracies = check_pipeline(model, dataset, data, data.train_mask,\n",
    "                   data.test_mask,\n",
    "                   n_epochs=200,   \n",
    "                   original_output=None,\n",
    "                   indicate=True, \\\n",
    "                   return_prediction=True,\n",
    "                   compute_y_differences=True,\n",
    "                   dimension=32,\n",
    "                   task='classification',\n",
    "                   loss_function=torch.nn.CrossEntropyLoss(),\n",
    "                   lr=0.001)"
   ]
  },
  {
   "cell_type": "markdown",
   "id": "d70541ed",
   "metadata": {},
   "source": [
    "## spare codes"
   ]
  },
  {
   "cell_type": "code",
   "execution_count": null,
   "id": "e55a9244",
   "metadata": {},
   "outputs": [],
   "source": [
    "# u = model(data.x, data.edge_index)"
   ]
  },
  {
   "cell_type": "code",
   "execution_count": null,
   "id": "d28cd8a9",
   "metadata": {},
   "outputs": [],
   "source": [
    "#  F.mse_loss(u, u)"
   ]
  },
  {
   "cell_type": "code",
   "execution_count": null,
   "id": "dde91a80",
   "metadata": {},
   "outputs": [],
   "source": [
    "# loo_pipeline(model, dataset, data,data.train_mask,\n",
    "#                  data.test_mask, 1,\n",
    "#                  10,\n",
    "#                  original_output=None,\n",
    "#                  compute_y_differences=True,\n",
    "#                  task='classfication',\n",
    "#                  loss_function=torch.nn.CrossEntropyLoss(),\n",
    "#                  lr=0.001)"
   ]
  },
  {
   "cell_type": "code",
   "execution_count": null,
   "id": "48d89120",
   "metadata": {},
   "outputs": [],
   "source": []
  }
 ],
 "metadata": {
  "kernelspec": {
   "display_name": "Python 3 (ipykernel)",
   "language": "python",
   "name": "python3"
  },
  "language_info": {
   "codemirror_mode": {
    "name": "ipython",
    "version": 3
   },
   "file_extension": ".py",
   "mimetype": "text/x-python",
   "name": "python",
   "nbconvert_exporter": "python",
   "pygments_lexer": "ipython3",
   "version": "3.9.12"
  }
 },
 "nbformat": 4,
 "nbformat_minor": 5
}
