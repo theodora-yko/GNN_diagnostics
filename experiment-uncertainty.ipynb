{
 "cells": [
  {
   "cell_type": "code",
   "execution_count": 1,
   "id": "68dfed48",
   "metadata": {},
   "outputs": [],
   "source": [
    "# file specific libraries\n",
    "import torch\n",
    "from IPython.core.interactiveshell import InteractiveShell\n",
    "InteractiveShell.ast_node_interactivity = \"all\"\n",
    "import math, random, torch, collections, time, torch.nn.functional as F, networkx as nx, matplotlib.pyplot as plt, numpy as np\n",
    "import torch.nn as nn\n",
    "import torch.nn.functional as F\n",
    "from torch.nn import Linear\n",
    "from torch_geometric.nn import GCNConv\n",
    "from IPython.display import clear_output\n",
    "from torch_geometric.utils import to_networkx\n",
    "from sklearn.manifold import TSNE\n",
    "from sklearn.decomposition import PCA\n",
    "from functools import wraps\n",
    "\n",
    "%matplotlib inline\n",
    "import sys,os\n",
    "from models import *\n",
    "from train_utils import *\n",
    "from influence_metrics import *\n"
   ]
  },
  {
   "cell_type": "code",
   "execution_count": 2,
   "id": "7e6c103f",
   "metadata": {},
   "outputs": [
    {
     "name": "stdout",
     "output_type": "stream",
     "text": [
      "\n",
      "Dataset: Cora():\n",
      "======================\n",
      "Number of graphs: 1\n",
      "Number of features: 1433\n",
      "Number of classes: 7\n",
      "\n",
      "Data(x=[2708, 1433], edge_index=[2, 10556], y=[2708], train_mask=[2708], val_mask=[2708], test_mask=[2708])\n",
      "===========================================================================================================\n",
      "Number of nodes: 2708\n",
      "Number of edges: 10556\n",
      "Average node degree: 3.90\n",
      "Number of training nodes: 140\n",
      "Training node label rate: 0.05\n",
      "Contains isolated nodes: False\n",
      "Contains self-loops: False\n",
      "Is undirected: True\n"
     ]
    }
   ],
   "source": [
    "from torch_geometric.datasets import Planetoid\n",
    "from torch_geometric.transforms import NormalizeFeatures\n",
    "import torch\n",
    "import torch_geometric as tg\n",
    "import pandas as pd\n",
    "\n",
    "dataset_name = 'Cora'\n",
    "dataset = Planetoid(root='../data/Planetoid', name=dataset_name, transform=NormalizeFeatures())\n",
    "###\n",
    "print()\n",
    "print(f'Dataset: {dataset}:')\n",
    "print('======================')\n",
    "print(f'Number of graphs: {len(dataset)}')\n",
    "print(f'Number of features: {dataset.num_features}')\n",
    "print(f'Number of classes: {dataset.num_classes}')\n",
    "\n",
    "data = dataset[0]  # Get the first graph object.\n",
    "\n",
    "print()\n",
    "print(data)\n",
    "print('===========================================================================================================')\n",
    "\n",
    "# Gather some statistics about the graph.\n",
    "print(f'Number of nodes: {data.num_nodes}')\n",
    "print(f'Number of edges: {data.num_edges}')\n",
    "print(f'Average node degree: {data.num_edges / data.num_nodes:.2f}')\n",
    "print(f'Number of training nodes: {data.train_mask.sum()}')\n",
    "print(f'Training node label rate: {int(data.train_mask.sum()) / data.num_nodes:.2f}')\n",
    "print(f'Contains isolated nodes: {data.has_isolated_nodes()}')\n",
    "print(f'Contains self-loops: {data.has_self_loops()}')\n",
    "print(f'Is undirected: {data.is_undirected()}')\n"
   ]
  },
  {
   "cell_type": "code",
   "execution_count": 3,
   "id": "c7e4c16e",
   "metadata": {
    "scrolled": true
   },
   "outputs": [
    {
     "name": "stdout",
     "output_type": "stream",
     "text": [
      "Training the model\n",
      "Final test accuracy: 0.79\n",
      "output:  tensor([3, 4, 4,  ..., 3, 3, 3])\n"
     ]
    }
   ],
   "source": [
    "#### Simple model\n",
    "## for GraphSAGE, alpha = 0.5, beta =1 \n",
    "## for GAT, alpha = , beta = ?\n",
    "\n",
    "model =GNN(input_dim = data.num_features, hidden_dim=252,\n",
    "           output_dim = dataset.num_classes, n_layers=2,\n",
    "           activation ='relu', slope=.1,\n",
    "           device ='cpu',\n",
    "          alpha = 0.5, beta = 1, alpha_res = 0, \n",
    "           gnn_type = 'symmetric') \n",
    "           \n",
    "criterion = torch.nn.CrossEntropyLoss() \n",
    "optimizer = torch.optim.Adam(model.parameters(), lr=0.001, weight_decay=5e-4) #didn't include weight decay\n",
    "train_acc_list, test_acc_list, loss_list, misclassified, predictions = train(150, model, criterion, optimizer, \n",
    "                                                 x= data.x, edge_index= data.edge_index, y=data.y, indicate=True,\n",
    "                                                m=mask(data.train_mask, data.test_mask),\n",
    "                                                scatter_size=30, plotting=False)"
   ]
  },
  {
   "cell_type": "markdown",
   "id": "39380d13",
   "metadata": {},
   "source": [
    "1. run the same epoch size several time \n",
    "2. see heterogeneity or not "
   ]
  },
  {
   "cell_type": "code",
   "execution_count": null,
   "id": "8b4f55b1",
   "metadata": {
    "scrolled": false
   },
   "outputs": [
    {
     "name": "stdout",
     "output_type": "stream",
     "text": [
      "---- test number 1 ----\n"
     ]
    }
   ],
   "source": [
    "result = repeat_pipelines(model, dataset, data, epoch_size=100, display=True, indicate=True)"
   ]
  },
  {
   "cell_type": "code",
   "execution_count": null,
   "id": "59bb9355",
   "metadata": {},
   "outputs": [],
   "source": [
    "find_common_nodes(result, [])"
   ]
  },
  {
   "cell_type": "code",
   "execution_count": null,
   "id": "6fc29a16",
   "metadata": {
    "scrolled": true
   },
   "outputs": [],
   "source": [
    "similarities = node_similarity(dataset, nodes)"
   ]
  },
  {
   "cell_type": "code",
   "execution_count": null,
   "id": "328b152d",
   "metadata": {},
   "outputs": [],
   "source": [
    "for i in range(len(dataframe.columns)): \n",
    "    max_sim = 0\n",
    "    idx1, idx2 = 1, 2\n",
    "    for j in range(i, len(dataframe.columns)):\n",
    "        similarity = dataframe[i][j] \n",
    "        if similarity != 1 and similarity != 0: \n",
    "            if max_sim < similarity: \n",
    "                max_sim = similarity \n",
    "                print(max_sim)\n",
    "                idx1, idx2 = i, j\n",
    "            print(f\"{i}, {j} pair with similarity level {similarity:.3f}\")\n",
    "    \n",
    "print(f\"most similar pair: {idx1}, {idx2}\" )"
   ]
  },
  {
   "cell_type": "code",
   "execution_count": null,
   "id": "eabe2833",
   "metadata": {},
   "outputs": [],
   "source": [
    "dataframe\n",
    "\n",
    "for i in "
   ]
  },
  {
   "cell_type": "code",
   "execution_count": null,
   "id": "a5fd8fe7",
   "metadata": {},
   "outputs": [],
   "source": [
    "dc = compute_centrality(dataset, nodes, 'degree_centrality')\n",
    "bc = compute_centrality(dataset, nodes, 'betweenness_centrality')\n",
    "print(dc, bc)"
   ]
  },
  {
   "cell_type": "markdown",
   "id": "1700398a",
   "metadata": {},
   "source": [
    "# to do \n",
    "**misclassification** \n",
    "1. for each misclassified nodes, can I find a node responsible to the misclassification? \n",
    "2. what is the most dominant misclassified class? \n",
    "\n",
    "**influential nodes** \n",
    "1. for each influential node, can I figure out which class the node is in, and for which nodes the node results in misclassification? \n",
    "2. what is the relationship of the influential node to the misclassified node? \n",
    "3. what is the relationship amongst the influential nodes? \n",
    "4. if I take all of the influential nodes out, does that lead to increase in inaccuracy? or decrease? is there a consistent result? \n",
    "\n",
    "\n",
    "numbers are just numbers without context. try to write the print function wisely. \n",
    "compute the simrank for the entire graph - the group's simrank is significantly different from the group \n",
    "random paris of the graph and average out? "
   ]
  },
  {
   "cell_type": "markdown",
   "id": "7417d1e9",
   "metadata": {},
   "source": [
    "# links\n",
    "node similarity: https://towardsdatascience.com/simrank-similarity-analysis-1d8d5a18766a\n",
    " 0 if have the same parents, return a similarity value\n"
   ]
  },
  {
   "cell_type": "code",
   "execution_count": null,
   "id": "2b3db5dc",
   "metadata": {},
   "outputs": [],
   "source": [
    "outputs, output_differences, kl_scores, accuracies = check_pipeline(model, dataset, data, data.train_mask,\n",
    "                   data.test_mask,\n",
    "                   n_epochs=200,   \n",
    "                   original_output=None,\n",
    "                   indicate=True, \\\n",
    "                   return_prediction=True,\n",
    "                   compute_y_differences=True,\n",
    "                   dimension=32,\n",
    "                   task='classification',\n",
    "                   loss_function=torch.nn.CrossEntropyLoss(),\n",
    "                   lr=0.001)"
   ]
  },
  {
   "cell_type": "markdown",
   "id": "3f13be88",
   "metadata": {},
   "source": [
    "## spare codes"
   ]
  },
  {
   "cell_type": "code",
   "execution_count": null,
   "id": "e55a9244",
   "metadata": {},
   "outputs": [],
   "source": [
    "# u = model(data.x, data.edge_index)"
   ]
  },
  {
   "cell_type": "code",
   "execution_count": null,
   "id": "d28cd8a9",
   "metadata": {},
   "outputs": [],
   "source": [
    "#  F.mse_loss(u, u)"
   ]
  },
  {
   "cell_type": "code",
   "execution_count": null,
   "id": "dde91a80",
   "metadata": {},
   "outputs": [],
   "source": [
    "# loo_pipeline(model, dataset, data,data.train_mask,\n",
    "#                  data.test_mask, 1,\n",
    "#                  10,\n",
    "#                  original_output=None,\n",
    "#                  compute_y_differences=True,\n",
    "#                  task='classfication',\n",
    "#                  loss_function=torch.nn.CrossEntropyLoss(),\n",
    "#                  lr=0.001)"
   ]
  },
  {
   "cell_type": "code",
   "execution_count": null,
   "id": "a0fcc5a8",
   "metadata": {},
   "outputs": [],
   "source": []
  }
 ],
 "metadata": {
  "kernelspec": {
   "display_name": "Python 3 (ipykernel)",
   "language": "python",
   "name": "python3"
  },
  "language_info": {
   "codemirror_mode": {
    "name": "ipython",
    "version": 3
   },
   "file_extension": ".py",
   "mimetype": "text/x-python",
   "name": "python",
   "nbconvert_exporter": "python",
   "pygments_lexer": "ipython3",
   "version": "3.9.12"
  }
 },
 "nbformat": 4,
 "nbformat_minor": 5
}
